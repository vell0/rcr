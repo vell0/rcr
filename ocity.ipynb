{
 "cells": [
  {
   "cell_type": "markdown",
   "metadata": {
    "id": "HkCsodyPCGT9"
   },
   "source": [
    "# Seminario 2. OCity\n",
    "\n",
    "Procesamiento de los datos disponibles en la plataforma https://ocityplatform.webs.upv.es/ sobre monumentos y puntos de interés de Valencia."
   ]
  },
  {
   "cell_type": "markdown",
   "metadata": {
    "id": "78Sl1-rOCZjG"
   },
   "source": [
    " ## Exploración de la estructura de los datos\n",
    " Carga el fichero `2022_05_24_Valencia.json` y examina como está estructurada la información\n"
   ]
  },
  {
   "cell_type": "code",
   "execution_count": null,
   "metadata": {
    "id": "oM4kPrRDkNzB"
   },
   "outputs": [],
   "source": [
    "import pandas as pd\n",
    "\n",
    "poi = pd.read_json('2022_05_24_Valencia.json')\n",
    "print(poi)\n"
   ]
  },
  {
   "cell_type": "code",
   "execution_count": null,
   "metadata": {
    "id": "WQxRjcts8W99"
   },
   "outputs": [],
   "source": [
    "dict(poi.data[0])"
   ]
  },
  {
   "cell_type": "markdown",
   "metadata": {
    "id": "A6OPChhlCzre"
   },
   "source": [
    "## Carga de datos\n",
    "Construir una estructura que permita la navegación por la información de manera sencilla. Elige la que consideres más adecuada"
   ]
  },
  {
   "cell_type": "code",
   "execution_count": null,
   "metadata": {
    "id": "DEehVZzYDC5Q"
   },
   "outputs": [],
   "source": [
    "# completa el código"
   ]
  },
  {
   "cell_type": "markdown",
   "metadata": {},
   "source": [
    "### Ejercicios\n",
    "\n",
    "1) Elegir un tipo de TOURIST TYPE y listar todos los monumentos que estén asociados con el TOURIST TYPE elegido."
   ]
  },
  {
   "cell_type": "code",
   "execution_count": null,
   "metadata": {},
   "outputs": [],
   "source": [
    "# completa el código"
   ]
  },
  {
   "cell_type": "markdown",
   "metadata": {},
   "source": [
    "2) Mostrar un gráfico con la cantidad de monumentos de cada tipo TYPE (UNE178503)"
   ]
  },
  {
   "cell_type": "code",
   "execution_count": null,
   "metadata": {},
   "outputs": [],
   "source": [
    "# completa el código"
   ]
  },
  {
   "cell_type": "markdown",
   "metadata": {},
   "source": [
    "3. Listar los tipos OCITY (UNESCO) para los que no hay ningún monumento asociado"
   ]
  },
  {
   "cell_type": "code",
   "execution_count": null,
   "metadata": {},
   "outputs": [],
   "source": [
    "# completa el código"
   ]
  },
  {
   "cell_type": "markdown",
   "metadata": {
    "id": "IvWMPWV4DQ1W"
   },
   "source": [
    "## Extracción de características con spaCy\n",
    "\n",
    "Utiliza spaCy para analizar la información disponible en los campos `description` y `about`. \n",
    "\n",
    "Añade a la estructura anterior un nuevo campo para poder almacenar las entidades (de tipos que consideres relevantes) que extraigas con spaCy."
   ]
  },
  {
   "cell_type": "code",
   "execution_count": null,
   "metadata": {
    "id": "9QDaUQCNEVRC"
   },
   "outputs": [],
   "source": [
    "# completa el código"
   ]
  }
 ],
 "metadata": {
  "colab": {
   "collapsed_sections": [],
   "provenance": []
  },
  "kernelspec": {
   "display_name": "Python 3 (ipykernel)",
   "language": "python",
   "name": "python3"
  },
  "language_info": {
   "codemirror_mode": {
    "name": "ipython",
    "version": 3
   },
   "file_extension": ".py",
   "mimetype": "text/x-python",
   "name": "python",
   "nbconvert_exporter": "python",
   "pygments_lexer": "ipython3",
   "version": "3.11.5"
  }
 },
 "nbformat": 4,
 "nbformat_minor": 1
}
