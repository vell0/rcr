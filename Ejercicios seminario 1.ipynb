{
 "cells": [
  {
   "cell_type": "markdown",
   "metadata": {},
   "source": [
    "# Ejercicios del seminario 1"
   ]
  },
  {
   "cell_type": "markdown",
   "metadata": {},
   "source": [
    "Leer el texto en \"tourism_description.txt\" y guardar cada descripción en una variable"
   ]
  },
  {
   "cell_type": "code",
   "execution_count": null,
   "metadata": {
    "scrolled": true
   },
   "outputs": [],
   "source": []
  },
  {
   "cell_type": "markdown",
   "metadata": {},
   "source": [
    "### Primer ejercicio\n",
    "Analizar la dependencia de los elementos del primer texto:\n",
    "\n",
    "a) Mostrar los noun phrases\n",
    "\n",
    "b) Para cada uno, detectar los elementos que describen al elemento principal (dependencias amod, y otras que consideres relevantes)."
   ]
  },
  {
   "cell_type": "code",
   "execution_count": null,
   "metadata": {},
   "outputs": [],
   "source": []
  },
  {
   "cell_type": "markdown",
   "metadata": {},
   "source": [
    "### Segundo ejercicio\n",
    "a) Mostrar las entidades identificadas en cada uno de los tres textos, junto con el tipo de entidad\n",
    "\n",
    "b) Mostrar las entidades de cualquier tipo que aparecen en más de un texto. ¿Qué características tienen en común?"
   ]
  },
  {
   "cell_type": "code",
   "execution_count": null,
   "metadata": {},
   "outputs": [],
   "source": []
  },
  {
   "cell_type": "markdown",
   "metadata": {},
   "source": [
    "### Tercer ejercicio\n",
    "Muestra la similitud entre las entidades identificadas en el tercer texto como PERSON u ORG. Para ello, convierte cada una de ellas en un token (nlp(entity)) y utiliza la función t1.similarity(t2).\n",
    "\n",
    "¿Qué se puede deducir de este análisis?"
   ]
  },
  {
   "cell_type": "code",
   "execution_count": null,
   "metadata": {},
   "outputs": [],
   "source": []
  }
 ],
 "metadata": {
  "kernelspec": {
   "display_name": "Python 3",
   "language": "python",
   "name": "python3"
  },
  "language_info": {
   "codemirror_mode": {
    "name": "ipython",
    "version": 3
   },
   "file_extension": ".py",
   "mimetype": "text/x-python",
   "name": "python",
   "nbconvert_exporter": "python",
   "pygments_lexer": "ipython3",
   "version": "3.8.8"
  }
 },
 "nbformat": 4,
 "nbformat_minor": 2
}
